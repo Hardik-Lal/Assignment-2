{
  "nbformat": 4,
  "nbformat_minor": 0,
  "metadata": {
    "colab": {
      "provenance": []
    },
    "kernelspec": {
      "name": "python3",
      "display_name": "Python 3"
    },
    "language_info": {
      "name": "python"
    }
  },
  "cells": [
    {
      "cell_type": "code",
      "execution_count": 1,
      "metadata": {
        "colab": {
          "base_uri": "https://localhost:8080/"
        },
        "id": "VL4HP4dVMh3U",
        "outputId": "f9851296-e8b1-49e4-f8cb-2ad9595ee62c"
      },
      "outputs": [
        {
          "output_type": "stream",
          "name": "stdout",
          "text": [
            "Model Performance (Mean Absolute Error during Cross-Validation):\n",
            "Linear Regression: 8.42\n",
            "Random Forest Regressor: 0.30\n",
            "XGBoost Regressor: 0.22\n",
            "\n",
            "Final Model Results (Test Set Performance):\n",
            "Linear Regression:\n",
            "  MSE: 10.10\n",
            "  MAE: 2.22\n",
            "  R2 Score: 0.91\n",
            "\n",
            "Random Forest Regressor:\n",
            "  MSE: 0.34\n",
            "  MAE: 0.38\n",
            "  R2 Score: 1.00\n",
            "\n",
            "XGBoost Regressor:\n",
            "  MSE: 0.23\n",
            "  MAE: 0.30\n",
            "  R2 Score: 1.00\n",
            "\n"
          ]
        }
      ],
      "source": [
        "import pandas as pd\n",
        "import numpy as np\n",
        "from sklearn.model_selection import train_test_split, KFold, cross_val_score\n",
        "from sklearn.preprocessing import StandardScaler\n",
        "from sklearn.linear_model import LinearRegression\n",
        "from sklearn.ensemble import RandomForestRegressor\n",
        "from xgboost import XGBRegressor\n",
        "from sklearn.metrics import mean_squared_error, mean_absolute_error, r2_score\n",
        "\n",
        "# Step 1: Data Acquisition\n",
        "# Load the Energy Efficiency dataset from UCI\n",
        "url = \"https://archive.ics.uci.edu/ml/machine-learning-databases/00242/ENB2012_data.xlsx\"\n",
        "df = pd.read_excel(url)\n",
        "\n",
        "# Column names based on UCI dataset description\n",
        "df.columns = [\n",
        "    'Relative_Compactness', 'Surface_Area', 'Wall_Area', 'Roof_Area', 'Overall_Height',\n",
        "    'Orientation', 'Glazing_Area', 'Glazing_Area_Distribution', 'Heating_Load', 'Cooling_Load'\n",
        "]\n",
        "\n",
        "# We'll predict 'Heating_Load' as the target variable, so we have an energy prediction task\n",
        "\n",
        "# Step 2: Define the Methodology and Objectives\n",
        "# Objective: Predict heating load (Energy Efficiency) for buildings based on input features.\n",
        "X = df.drop(columns=['Heating_Load', 'Cooling_Load'])  # Features\n",
        "y = df['Heating_Load']  # Target variable\n",
        "\n",
        "# Step 3: Data Preprocessing\n",
        "# Split data into training and testing sets\n",
        "X_train, X_test, y_train, y_test = train_test_split(X, y, test_size=0.2, random_state=0)\n",
        "\n",
        "# Scale the data for better ML model performance\n",
        "scaler = StandardScaler()\n",
        "X_train_scaled = scaler.fit_transform(X_train)\n",
        "X_test_scaled = scaler.transform(X_test)\n",
        "\n",
        "# Step 4: Use Multiple ML Methods and Validate with K-Fold Cross Validation\n",
        "models = {\n",
        "    'Linear Regression': LinearRegression(),\n",
        "    'Random Forest Regressor': RandomForestRegressor(n_estimators=100, random_state=0),\n",
        "    'XGBoost Regressor': XGBRegressor(n_estimators=100, learning_rate=0.1, random_state=0)\n",
        "}\n",
        "\n",
        "kf = KFold(n_splits=5, shuffle=True, random_state=0)\n",
        "model_scores = {}\n",
        "\n",
        "for model_name, model in models.items():\n",
        "    # Cross-validation\n",
        "    cv_scores = cross_val_score(model, X_train_scaled, y_train, cv=kf, scoring='neg_mean_squared_error')\n",
        "    model_scores[model_name] = np.mean(np.abs(cv_scores))  # Using mean of absolute MSE scores\n",
        "\n",
        "# Step 5: Comparing Results\n",
        "# Train the models on the whole training set for final evaluation\n",
        "results = {}\n",
        "for model_name, model in models.items():\n",
        "    model.fit(X_train_scaled, y_train)\n",
        "    predictions = model.predict(X_test_scaled)\n",
        "    mse = mean_squared_error(y_test, predictions)\n",
        "    mae = mean_absolute_error(y_test, predictions)\n",
        "    r2 = r2_score(y_test, predictions)\n",
        "    results[model_name] = {'MSE': mse, 'MAE': mae, 'R2 Score': r2}\n",
        "\n",
        "# Display results\n",
        "print(\"Model Performance (Mean Absolute Error during Cross-Validation):\")\n",
        "for model_name, score in model_scores.items():\n",
        "    print(f\"{model_name}: {score:.2f}\")\n",
        "\n",
        "print(\"\\nFinal Model Results (Test Set Performance):\")\n",
        "for model_name, metrics in results.items():\n",
        "    print(f\"{model_name}:\")\n",
        "    print(f\"  MSE: {metrics['MSE']:.2f}\")\n",
        "    print(f\"  MAE: {metrics['MAE']:.2f}\")\n",
        "    print(f\"  R2 Score: {metrics['R2 Score']:.2f}\\n\")\n"
      ]
    }
  ]
}